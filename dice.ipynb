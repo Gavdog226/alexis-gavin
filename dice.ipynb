{
 "cells": [
  {
   "cell_type": "code",
   "execution_count": 3,
   "metadata": {},
   "outputs": [
    {
     "name": "stdin",
     "output_type": "stream",
     "text": [
      "Please enter your name l\n"
     ]
    },
    {
     "name": "stdout",
     "output_type": "stream",
     "text": [
      "l, this program will allow you to roll two dice and chose the minimum and maximum of each\n"
     ]
    },
    {
     "name": "stdin",
     "output_type": "stream",
     "text": [
      "Enter the minimum value of die 1: 3\n",
      "Enter the maximum value of die 1: 8\n",
      "Enter the minimum value of die 1: 3\n",
      "Enter the maximum value of die 2: 8\n"
     ]
    },
    {
     "name": "stdout",
     "output_type": "stream",
     "text": [
      "8 6\n"
     ]
    }
   ],
   "source": [
    "name = input(\"Please enter your name\")\n",
    "print(name+\", this program will allow you to roll two dice\",\n",
    "      \"and chose the minimum and maximum of each\")\n",
    "\n",
    "import random\n",
    "\n",
    "min_val1 = int(input(\"Enter the minimum value of die 1:\"))\n",
    "max_val1 = int(input(\"Enter the maximum value of die 1:\"))\n",
    "\n",
    "min_val2 = int(input(\"Enter the minimum value of die 1:\"))\n",
    "max_val2 = int(input(\"Enter the maximum value of die 2:\"))\n",
    "\n",
    "die1 = random.randint(min_val1,max_val1)\n",
    "die2 = random.randint(min_val2,max_val2)"
   ]
  },
  {
   "cell_type": "code",
   "execution_count": null,
   "metadata": {},
   "outputs": [],
   "source": []
  }
 ],
 "metadata": {
  "kernelspec": {
   "display_name": "Python 3",
   "language": "python",
   "name": "python3"
  },
  "language_info": {
   "codemirror_mode": {
    "name": "ipython",
    "version": 3
   },
   "file_extension": ".py",
   "mimetype": "text/x-python",
   "name": "python",
   "nbconvert_exporter": "python",
   "pygments_lexer": "ipython3",
   "version": "3.8.3"
  }
 },
 "nbformat": 4,
 "nbformat_minor": 4
}
